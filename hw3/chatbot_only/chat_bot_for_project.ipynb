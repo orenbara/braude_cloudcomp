{
  "nbformat": 4,
  "nbformat_minor": 0,
  "metadata": {
    "colab": {
      "provenance": [],
      "authorship_tag": "ABX9TyNJUBZTWSpMcVN09mLyQZji",
      "include_colab_link": true
    },
    "kernelspec": {
      "name": "python3",
      "display_name": "Python 3"
    },
    "language_info": {
      "name": "python"
    }
  },
  "cells": [
    {
      "cell_type": "markdown",
      "metadata": {
        "id": "view-in-github",
        "colab_type": "text"
      },
      "source": [
        "<a href=\"https://colab.research.google.com/github/orenbara/braude_cloudcomp/blob/master/hw3/chatbot_only/chat_bot_for_project.ipynb\" target=\"_parent\"><img src=\"https://colab.research.google.com/assets/colab-badge.svg\" alt=\"Open In Colab\"/></a>"
      ]
    },
    {
      "cell_type": "code",
      "source": [
        "!pip install firebase"
      ],
      "metadata": {
        "colab": {
          "base_uri": "https://localhost:8080/"
        },
        "id": "pvzG7Q7BnrkM",
        "outputId": "73c7c262-257f-4310-f323-b65feb2fe78d"
      },
      "execution_count": 23,
      "outputs": [
        {
          "output_type": "stream",
          "name": "stdout",
          "text": [
            "Requirement already satisfied: firebase in /usr/local/lib/python3.10/dist-packages (4.0.1)\n",
            "Requirement already satisfied: requests in /usr/local/lib/python3.10/dist-packages (from firebase) (2.31.0)\n",
            "Requirement already satisfied: charset-normalizer<4,>=2 in /usr/local/lib/python3.10/dist-packages (from requests->firebase) (3.3.2)\n",
            "Requirement already satisfied: idna<4,>=2.5 in /usr/local/lib/python3.10/dist-packages (from requests->firebase) (3.7)\n",
            "Requirement already satisfied: urllib3<3,>=1.21.1 in /usr/local/lib/python3.10/dist-packages (from requests->firebase) (2.0.7)\n",
            "Requirement already satisfied: certifi>=2017.4.17 in /usr/local/lib/python3.10/dist-packages (from requests->firebase) (2024.7.4)\n"
          ]
        }
      ]
    },
    {
      "cell_type": "code",
      "source": [
        "import json\n",
        "import ipywidgets as widgets\n",
        "from IPython.display import display, clear_output, HTML\n",
        "import pandas as pd\n",
        "import matplotlib.pyplot as plt\n",
        "from google.colab import files, drive\n",
        "import matplotlib.colors as mcolors\n",
        "from firebase import firebase\n",
        "import numpy as np\n",
        "from IPython.display import YouTubeVideo"
      ],
      "metadata": {
        "id": "cId7Z7Lom9cO"
      },
      "execution_count": 24,
      "outputs": []
    },
    {
      "cell_type": "code",
      "execution_count": 38,
      "metadata": {
        "colab": {
          "base_uri": "https://localhost:8080/"
        },
        "id": "-dMh1Rr2lyMN",
        "outputId": "88d42280-53c4-4e94-edf7-f302afc5c0d1"
      },
      "outputs": [
        {
          "output_type": "stream",
          "name": "stdout",
          "text": [
            "Drive already mounted at /content/drive/; to attempt to forcibly remount, call drive.mount(\"/content/drive/\", force_remount=True).\n"
          ]
        }
      ],
      "source": [
        "\n",
        "FBconn = firebase.FirebaseApplication('https://braude-cloud-chatbot-default-rtdb.europe-west1.firebasedatabase.app/',None)\n",
        "\n",
        "create_db = True # @param {type:\"boolean\"}\n",
        "comment = \"!!!!!!Change create_db to True only if you have access to Anna's drive!!!!!!\" # @param {type:\"string\"}\n",
        "\n",
        "if create_db:\n",
        "  from google.colab import drive\n",
        "  drive.mount('/content/drive/')\n",
        "  # Create and upload the empty JSON data to Firebase\n",
        "  FBconn.delete('/', None)\n",
        "  empty_data = {}\n",
        "  file_path_empty_json = '/content/drive/MyDrive/Colab Notebooks/Cloud Compute Course Braude/chatbot/Empty.json'\n",
        "  with open(file_path_empty_json, 'w') as f:\n",
        "      json.dump(empty_data, f)\n",
        "  with open(file_path_empty_json) as f:\n",
        "      data = json.load(f)\n",
        "  result_put = FBconn.put('/', 'empty_data', data)\n",
        "\n",
        "  # Load JSON data\n",
        "  file_path = '/content/drive/MyDrive/Colab Notebooks/Cloud Compute Course Braude/chatbot/Students.json'\n",
        "  with open(file_path) as f:\n",
        "      data = json.load(f)\n",
        "  result_put = FBconn.put('/', 'OnShapeJsonData', data)\n",
        "else:\n",
        "  print(\"You didn't created the data base\")\n",
        "\n",
        "\n",
        "# Convert JSON data to a Data Frame\n",
        "result_get = FBconn.get('/OnShapeJsonData/',None)\n",
        "df = pd.DataFrame(result_get)\n",
        "\n",
        "\n"
      ]
    },
    {
      "cell_type": "markdown",
      "source": [
        "Chat bot"
      ],
      "metadata": {
        "id": "yqVhWQNdrFS-"
      }
    },
    {
      "cell_type": "code",
      "source": [
        "!pip install nltk\n",
        "\n",
        "import nltk\n",
        "from nltk.chat.util import Chat, reflections"
      ],
      "metadata": {
        "colab": {
          "base_uri": "https://localhost:8080/"
        },
        "id": "6FiGkdSzrHL6",
        "outputId": "b7260fa7-a563-46b7-e06a-a0d00654d6d2"
      },
      "execution_count": 27,
      "outputs": [
        {
          "output_type": "stream",
          "name": "stdout",
          "text": [
            "Requirement already satisfied: nltk in /usr/local/lib/python3.10/dist-packages (3.8.1)\n",
            "Requirement already satisfied: click in /usr/local/lib/python3.10/dist-packages (from nltk) (8.1.7)\n",
            "Requirement already satisfied: joblib in /usr/local/lib/python3.10/dist-packages (from nltk) (1.4.2)\n",
            "Requirement already satisfied: regex>=2021.8.3 in /usr/local/lib/python3.10/dist-packages (from nltk) (2024.5.15)\n",
            "Requirement already satisfied: tqdm in /usr/local/lib/python3.10/dist-packages (from nltk) (4.66.4)\n"
          ]
        }
      ]
    },
    {
      "cell_type": "code",
      "source": [
        "import nltk\n",
        "from nltk.chat.util import Chat, reflections\n",
        "from firebase import firebase\n",
        "from collections import Counter\n",
        "\n",
        "# Initialize the connection to Firebase - DONE AT FB CREATION\n",
        "\n",
        "# Download necessary NLTK data\n",
        "nltk.download('punkt')\n",
        "nltk.download('wordnet')\n",
        "\n",
        "# Function to fetch data from Firebase\n",
        "def fetch_data_from_firebase():\n",
        "    result = FBconn.get('/OnShapeJsonData/', None)\n",
        "    if result:\n",
        "        return result\n",
        "    else:\n",
        "        return {}\n",
        "\n",
        "# Fetch data from Firebase\n",
        "data = fetch_data_from_firebase()\n",
        "df_data = pd.DataFrame(data)\n",
        "\n",
        "\n",
        "# Process the data\n",
        "users = Counter(df_data['User'].dropna())\n",
        "documents = Counter(df_data['Document'].dropna())\n",
        "tabs = Counter(df_data['Tab'].dropna())\n",
        "descriptions = Counter(df_data['Description'].dropna())\n",
        "\n",
        "###################################\n",
        "\n",
        "# Custom pretty print function\n",
        "def pretty_print_counter(counter, title):\n",
        "    print(title)\n",
        "    print(\"-\" * len(title))\n",
        "    for key, count in counter.items():\n",
        "        print(f\"{key}: {count}\")\n",
        "    print()\n",
        "\n",
        "# Pretty print the counters\n",
        "pretty_print_counter(users, \"Users\")\n",
        "pretty_print_counter(documents, \"Documents\")\n",
        "pretty_print_counter(tabs, \"Tabs\")\n",
        "#pretty_print_counter(descriptions, \"Descriptions\")\n",
        "\n",
        "\n",
        "\n",
        "###################################\n",
        "\n",
        "\n",
        "# Calculate some statistics\n",
        "total_actions = len(data)\n",
        "unique_users = len(users)\n",
        "unique_documents = len(documents)\n",
        "unique_tabs = len(tabs)\n",
        "\n",
        "# Define patterns and responses\n",
        "patterns = [\n",
        "    (r'hi|hello|hey', ['Hello!', 'Hi there!', 'Welcome to the project management assistant.']),\n",
        "    (r'how are you?', ['I\\'m functioning well, thank you!', 'I\\'m operational and ready to assist with your project management.']),\n",
        "    (r'what is your name?', ['I\\'m the Project Management Assistant.', 'You can call me the Assistant.']),\n",
        "    (r'exit|bye|goodbye', ['Thank you for using the Project Management Assistant. Goodbye!', 'Farewell! Don\\'t hesitate to return if you need more assistance with your project.']),\n",
        "    (r'How many total actions are recorded?', [f\"There are {total_actions} total actions recorded in the database.\"]),\n",
        "    (r'Who is the most active user?', [f\"The most active user is {users.most_common(1)[0][0]} with {users.most_common(1)[0][1]} actions.\"]),\n",
        "    (r'How many unique users are there?', [f\"There are {unique_users} unique users in the database.\"]),\n",
        "    (r'What is the most frequently accessed document?', [f\"The most frequently accessed document is '{documents.most_common(1)[0][0]}' with {documents.most_common(1)[0][1]} accesses.\"]),\n",
        "    (r'How many different documents were accessed?', [f\"There were {unique_documents} different documents accessed.\"]),\n",
        "    (r'What is the most common tab used?', [f\"The most commonly used tab is '{tabs.most_common(1)[0][0]}' with {tabs.most_common(1)[0][1]} uses.\"]),\n",
        "    (r'What is the most frequent action description?', [f\"The most frequent action description is '{descriptions.most_common(1)[0][0]}' occurring {descriptions.most_common(1)[0][1]} times.\"]),\n",
        "    (r'What are the top 3 most active users?', [f\"The top 3 most active users are: 1. {users.most_common(3)[0][0]} ({users.most_common(3)[0][1]} actions), 2. {users.most_common(3)[1][0]} ({users.most_common(3)[1][1]} actions), and 3. {users.most_common(3)[2][0]} ({users.most_common(3)[2][1]} actions).\"]),\n",
        "    (r'What is the least used tab?', [f\"The least used tab is '{tabs.most_common()[-1][0]}' with only {tabs.most_common()[-1][1]} uses.\"]),\n",
        "    #(r'How many different types of actions \\(descriptions\\) are there?', [f\"There are {len(descriptions)} different types of actions (unique descriptions) in the database.\"]),\n",
        "    (r'What actions did StudentA1 perform?', [f\"StudentA1 performed actions like {descriptions.most_common(4)[2][0]}\"]),\n",
        "    #(r'Can you list all the documents accessed by {user}?', [f\"{users} accessed the following documents: {documents}\"]),\n",
        "    (r'Which user accessed the {tab} tab the most?', [f\"The user who accessed the {tabs} tab the most is {users.most_common(1)[0][0]} with {users.most_common(1)[0][1]} accesses.\"]),\n",
        "    (r'Which tab was used the least by {user}?', [f\"The least used tab by {users} is {tabs.most_common()[-1][0]} with only {tabs.most_common()[-1][1]} uses.\"])\n",
        "]\n",
        "\n",
        "# Create a chatbot\n",
        "chatbot = Chat(patterns, reflections)\n",
        "\n",
        "# Start the conversation\n",
        "print(\"Hello! I'm the Project Management Assistant. How can I help you today?\")\n",
        "while True:\n",
        "    user_input = input(\"You: \")\n",
        "\n",
        "    if user_input.lower() in ['exit', 'bye', 'goodbye']:\n",
        "        print(\"ChatBot: Thank you for using the Project Management Assistant. Goodbye!\")\n",
        "        break\n",
        "\n",
        "    response = chatbot.respond(user_input)\n",
        "    print(\"ChatBot:\", response if response is not None else \"This type of question is not supported.\")\n"
      ],
      "metadata": {
        "colab": {
          "base_uri": "https://localhost:8080/",
          "height": 1000
        },
        "id": "S5KEGGdrrHq2",
        "outputId": "562032a6-b8c1-42ba-cc4c-7858301e26e8"
      },
      "execution_count": 43,
      "outputs": [
        {
          "output_type": "stream",
          "name": "stderr",
          "text": [
            "[nltk_data] Downloading package punkt to /root/nltk_data...\n",
            "[nltk_data]   Package punkt is already up-to-date!\n",
            "[nltk_data] Downloading package wordnet to /root/nltk_data...\n",
            "[nltk_data]   Package wordnet is already up-to-date!\n"
          ]
        },
        {
          "output_type": "stream",
          "name": "stdout",
          "text": [
            "Users\n",
            "-----\n",
            "StudentA: 503\n",
            "StudentB: 799\n",
            "StudentZ: 69\n",
            "StudentC: 268\n",
            "\n",
            "Documents\n",
            "---------\n",
            "1st lab: 1639\n",
            "\n",
            "Tabs\n",
            "----\n",
            "N/A: 615\n",
            "Part Studio 3: 152\n",
            "Assembly 3: 153\n",
            "Part Studio 1: 124\n",
            "Assembly 1: 455\n",
            "Assembly 3 Copy 1: 22\n",
            "Document as a whole: 10\n",
            "Assembly 2: 29\n",
            "Part Studio 4: 38\n",
            "Part Studio 2: 41\n",
            "\n",
            "Hello! I'm the Project Management Assistant. How can I help you today?\n",
            "You: How many total actions are recorded?\n",
            "ChatBot: There are 1639 total actions recorded in the database.\n",
            "You: Who is the most active user?\n",
            "ChatBot: The most active user is StudentB with 799 actions.\n",
            "You: How many unique users are there?\n",
            "ChatBot: There are 4 unique users in the database.\n",
            "You: What is the most frequently accessed document?\n",
            "ChatBot: The most frequently accessed document is '1st lab' with 1639 accesses.\n",
            "You: How many different documents were accessed?\n",
            "ChatBot: There were 1 different documents accessed.\n",
            "You: What is the most common tab used?\n",
            "ChatBot: The most commonly used tab is 'N/A' with 615 uses.\n",
            "You: What is the most frequent action description?\n",
            "ChatBot: The most frequent action description is 'Start assembly drag' occurring 229 times.\n",
            "You: What are the top 3 most active users?\n",
            "ChatBot: The top 3 most active users are: 1. StudentB (799 actions), 2. StudentA (503 actions), and 3. StudentC (268 actions).\n",
            "You: What is the least used tab?\n",
            "ChatBot: The least used tab is 'Document as a whole' with only 10 uses.\n",
            "You: How many different types of actions \\(descriptions\\) are there?\n",
            "ChatBot: This type of question is not supported.\n",
            "You: How many different types of actions Start assembly drag are there?\n",
            "ChatBot: This type of question is not supported.\n",
            "You: How many different types of \"actions Start assembly drag\" are there?\n",
            "ChatBot: This type of question is not supported.\n",
            "You: How many different types of actions \\(Tab Part Studio 3 of type PARTSTUDIO closed by StudentA\\) are there?\n",
            "ChatBot: This type of question is not supported.\n",
            "You: How many different types of actions \\(descriptions\\) are there?\n",
            "ChatBot: This type of question is not supported.\n",
            "You: How many different types of actions \\(Cancel Operation\\) are there?\n",
            "ChatBot: This type of question is not supported.\n",
            "You: How many different types of actions (Cancel Operation) are there?\n",
            "ChatBot: This type of question is not supported.\n",
            "You: How many different types of actions Cancel Operation are there?\n",
            "ChatBot: This type of question is not supported.\n",
            "You: What actions did StudentA1 perform?\n",
            "ChatBot: StudentA1 performed actions like Drag : instance\n",
            "You: Can you list all the documents accessed by {user}?\n",
            "ChatBot: Counter({'StudentB': 799, 'StudentA': 503, 'StudentC': 268, 'StudentZ': 69}) accessed the following documents: Counter({'1st lab': 1639})\n",
            "You: Can you list all the documents accessed by {StudentA}?\n",
            "ChatBot: This type of question is not supported.\n",
            "You: Can you list all the documents accessed by {StudentA1}?\n",
            "ChatBot: This type of question is not supported.\n",
            "You: Can you list all the documents accessed by StudentA1?\n",
            "ChatBot: This type of question is not supported.\n",
            "You: Can you list all the documents accessed by {user}?\n",
            "ChatBot: Counter({'StudentB': 799, 'StudentA': 503, 'StudentC': 268, 'StudentZ': 69}) accessed the following documents: Counter({'1st lab': 1639})\n",
            "You: Which user accessed the {tab} tab the most?\n",
            "ChatBot: The user who accessed the Counter({'N/A': 615, 'Assembly 1': 455, 'Assembly 3': 153, 'Part Studio 3': 152, 'Part Studio 1': 124, 'Part Studio 2': 41, 'Part Studio 4': 38, 'Assembly 2': 29, 'Assembly 3 Copy 1': 22, 'Document as a whole': 10}) tab the most is StudentB with 799 accesses.\n"
          ]
        },
        {
          "output_type": "error",
          "ename": "KeyboardInterrupt",
          "evalue": "Interrupted by user",
          "traceback": [
            "\u001b[0;31m---------------------------------------------------------------------------\u001b[0m",
            "\u001b[0;31mKeyboardInterrupt\u001b[0m                         Traceback (most recent call last)",
            "\u001b[0;32m<ipython-input-43-b064a964c9fe>\u001b[0m in \u001b[0;36m<cell line: 94>\u001b[0;34m()\u001b[0m\n\u001b[1;32m     93\u001b[0m \u001b[0mprint\u001b[0m\u001b[0;34m(\u001b[0m\u001b[0;34m\"Hello! I'm the Project Management Assistant. How can I help you today?\"\u001b[0m\u001b[0;34m)\u001b[0m\u001b[0;34m\u001b[0m\u001b[0;34m\u001b[0m\u001b[0m\n\u001b[1;32m     94\u001b[0m \u001b[0;32mwhile\u001b[0m \u001b[0;32mTrue\u001b[0m\u001b[0;34m:\u001b[0m\u001b[0;34m\u001b[0m\u001b[0;34m\u001b[0m\u001b[0m\n\u001b[0;32m---> 95\u001b[0;31m     \u001b[0muser_input\u001b[0m \u001b[0;34m=\u001b[0m \u001b[0minput\u001b[0m\u001b[0;34m(\u001b[0m\u001b[0;34m\"You: \"\u001b[0m\u001b[0;34m)\u001b[0m\u001b[0;34m\u001b[0m\u001b[0;34m\u001b[0m\u001b[0m\n\u001b[0m\u001b[1;32m     96\u001b[0m \u001b[0;34m\u001b[0m\u001b[0m\n\u001b[1;32m     97\u001b[0m     \u001b[0;32mif\u001b[0m \u001b[0muser_input\u001b[0m\u001b[0;34m.\u001b[0m\u001b[0mlower\u001b[0m\u001b[0;34m(\u001b[0m\u001b[0;34m)\u001b[0m \u001b[0;32min\u001b[0m \u001b[0;34m[\u001b[0m\u001b[0;34m'exit'\u001b[0m\u001b[0;34m,\u001b[0m \u001b[0;34m'bye'\u001b[0m\u001b[0;34m,\u001b[0m \u001b[0;34m'goodbye'\u001b[0m\u001b[0;34m]\u001b[0m\u001b[0;34m:\u001b[0m\u001b[0;34m\u001b[0m\u001b[0;34m\u001b[0m\u001b[0m\n",
            "\u001b[0;32m/usr/local/lib/python3.10/dist-packages/ipykernel/kernelbase.py\u001b[0m in \u001b[0;36mraw_input\u001b[0;34m(self, prompt)\u001b[0m\n\u001b[1;32m    849\u001b[0m                 \u001b[0;34m\"raw_input was called, but this frontend does not support input requests.\"\u001b[0m\u001b[0;34m\u001b[0m\u001b[0;34m\u001b[0m\u001b[0m\n\u001b[1;32m    850\u001b[0m             )\n\u001b[0;32m--> 851\u001b[0;31m         return self._input_request(str(prompt),\n\u001b[0m\u001b[1;32m    852\u001b[0m             \u001b[0mself\u001b[0m\u001b[0;34m.\u001b[0m\u001b[0m_parent_ident\u001b[0m\u001b[0;34m,\u001b[0m\u001b[0;34m\u001b[0m\u001b[0;34m\u001b[0m\u001b[0m\n\u001b[1;32m    853\u001b[0m             \u001b[0mself\u001b[0m\u001b[0;34m.\u001b[0m\u001b[0m_parent_header\u001b[0m\u001b[0;34m,\u001b[0m\u001b[0;34m\u001b[0m\u001b[0;34m\u001b[0m\u001b[0m\n",
            "\u001b[0;32m/usr/local/lib/python3.10/dist-packages/ipykernel/kernelbase.py\u001b[0m in \u001b[0;36m_input_request\u001b[0;34m(self, prompt, ident, parent, password)\u001b[0m\n\u001b[1;32m    893\u001b[0m             \u001b[0;32mexcept\u001b[0m \u001b[0mKeyboardInterrupt\u001b[0m\u001b[0;34m:\u001b[0m\u001b[0;34m\u001b[0m\u001b[0;34m\u001b[0m\u001b[0m\n\u001b[1;32m    894\u001b[0m                 \u001b[0;31m# re-raise KeyboardInterrupt, to truncate traceback\u001b[0m\u001b[0;34m\u001b[0m\u001b[0;34m\u001b[0m\u001b[0m\n\u001b[0;32m--> 895\u001b[0;31m                 \u001b[0;32mraise\u001b[0m \u001b[0mKeyboardInterrupt\u001b[0m\u001b[0;34m(\u001b[0m\u001b[0;34m\"Interrupted by user\"\u001b[0m\u001b[0;34m)\u001b[0m \u001b[0;32mfrom\u001b[0m \u001b[0;32mNone\u001b[0m\u001b[0;34m\u001b[0m\u001b[0;34m\u001b[0m\u001b[0m\n\u001b[0m\u001b[1;32m    896\u001b[0m             \u001b[0;32mexcept\u001b[0m \u001b[0mException\u001b[0m \u001b[0;32mas\u001b[0m \u001b[0me\u001b[0m\u001b[0;34m:\u001b[0m\u001b[0;34m\u001b[0m\u001b[0;34m\u001b[0m\u001b[0m\n\u001b[1;32m    897\u001b[0m                 \u001b[0mself\u001b[0m\u001b[0;34m.\u001b[0m\u001b[0mlog\u001b[0m\u001b[0;34m.\u001b[0m\u001b[0mwarning\u001b[0m\u001b[0;34m(\u001b[0m\u001b[0;34m\"Invalid Message:\"\u001b[0m\u001b[0;34m,\u001b[0m \u001b[0mexc_info\u001b[0m\u001b[0;34m=\u001b[0m\u001b[0;32mTrue\u001b[0m\u001b[0;34m)\u001b[0m\u001b[0;34m\u001b[0m\u001b[0;34m\u001b[0m\u001b[0m\n",
            "\u001b[0;31mKeyboardInterrupt\u001b[0m: Interrupted by user"
          ]
        }
      ]
    },
    {
      "cell_type": "code",
      "source": [],
      "metadata": {
        "id": "wHrm9zC91rci"
      },
      "execution_count": null,
      "outputs": []
    }
  ]
}