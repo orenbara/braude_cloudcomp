{
  "nbformat": 4,
  "nbformat_minor": 0,
  "metadata": {
    "colab": {
      "provenance": [],
      "authorship_tag": "ABX9TyPNveNa38XqQ1AqPZLVKRzj",
      "include_colab_link": true
    },
    "kernelspec": {
      "name": "python3",
      "display_name": "Python 3"
    },
    "language_info": {
      "name": "python"
    }
  },
  "cells": [
    {
      "cell_type": "markdown",
      "metadata": {
        "id": "view-in-github",
        "colab_type": "text"
      },
      "source": [
        "<a href=\"https://colab.research.google.com/github/orenbara/braude_cloudcomp/blob/master/tirgulim/Copy_of_Cloud_Course_EX5.ipynb\" target=\"_parent\"><img src=\"https://colab.research.google.com/assets/colab-badge.svg\" alt=\"Open In Colab\"/></a>"
      ]
    },
    {
      "cell_type": "code",
      "execution_count": 1,
      "metadata": {
        "colab": {
          "base_uri": "https://localhost:8080/"
        },
        "id": "tBEO1Ux0RnPQ",
        "outputId": "97afcfce-c9ad-4a3d-9713-2bef10efa23e"
      },
      "outputs": [
        {
          "output_type": "stream",
          "name": "stdout",
          "text": [
            "Collecting firebase\n",
            "  Downloading firebase-4.0.1-py3-none-any.whl (12 kB)\n",
            "Requirement already satisfied: requests in /usr/local/lib/python3.10/dist-packages (from firebase) (2.31.0)\n",
            "Requirement already satisfied: charset-normalizer<4,>=2 in /usr/local/lib/python3.10/dist-packages (from requests->firebase) (3.3.2)\n",
            "Requirement already satisfied: idna<4,>=2.5 in /usr/local/lib/python3.10/dist-packages (from requests->firebase) (3.7)\n",
            "Requirement already satisfied: urllib3<3,>=1.21.1 in /usr/local/lib/python3.10/dist-packages (from requests->firebase) (2.0.7)\n",
            "Requirement already satisfied: certifi>=2017.4.17 in /usr/local/lib/python3.10/dist-packages (from requests->firebase) (2024.7.4)\n",
            "Installing collected packages: firebase\n",
            "Successfully installed firebase-4.0.1\n"
          ]
        }
      ],
      "source": [
        "!pip install firebase"
      ]
    },
    {
      "cell_type": "code",
      "source": [
        "# @title CLASS EXAMPLE: Write to DB no authentication\n",
        "from firebase import firebase\n",
        "FBconn = firebase.FirebaseApplication('https://braude-cloud-tut5-default-rtdb.europe-west1.firebasedatabase.app',None)\n",
        "while True:\n",
        "  temperature = int (input (\"what is the temperature?\"))\n",
        "  data_to_upload = {\n",
        "      'Temp' : temperature\n",
        "  }\n",
        "  result = FBconn.post('/myTest1/',data_to_upload)\n",
        "  print(result)\n"
      ],
      "metadata": {
        "colab": {
          "base_uri": "https://localhost:8080/",
          "height": 543
        },
        "cellView": "form",
        "id": "aD0EGVRlSBAn",
        "outputId": "56efc8d6-a075-429c-9b20-c631e39f58c0"
      },
      "execution_count": 2,
      "outputs": [
        {
          "output_type": "stream",
          "name": "stdout",
          "text": [
            "what is the temperature?12\n",
            "{'name': '-O1fMUHLd0xHpr7pUslm'}\n",
            "what is the temperature?12\n",
            "{'name': '-O1fMV6D3swYPLO1GhTP'}\n",
            "what is the temperature?5\n",
            "{'name': '-O1fMVmzF2JNzbsZUyQX'}\n",
            "what is the temperature?6\n",
            "{'name': '-O1fMW7DovqhNFJzZXlf'}\n",
            "what is the temperature?7\n",
            "{'name': '-O1fMWqEYwaf7EZhstGu'}\n"
          ]
        },
        {
          "output_type": "error",
          "ename": "KeyboardInterrupt",
          "evalue": "Interrupted by user",
          "traceback": [
            "\u001b[0;31m---------------------------------------------------------------------------\u001b[0m",
            "\u001b[0;31mKeyboardInterrupt\u001b[0m                         Traceback (most recent call last)",
            "\u001b[0;32m<ipython-input-2-c6a11e94bf2a>\u001b[0m in \u001b[0;36m<cell line: 4>\u001b[0;34m()\u001b[0m\n\u001b[1;32m      3\u001b[0m \u001b[0mFBconn\u001b[0m \u001b[0;34m=\u001b[0m \u001b[0mfirebase\u001b[0m\u001b[0;34m.\u001b[0m\u001b[0mFirebaseApplication\u001b[0m\u001b[0;34m(\u001b[0m\u001b[0;34m'https://braude-cloud-tut5-default-rtdb.europe-west1.firebasedatabase.app'\u001b[0m\u001b[0;34m,\u001b[0m\u001b[0;32mNone\u001b[0m\u001b[0;34m)\u001b[0m\u001b[0;34m\u001b[0m\u001b[0;34m\u001b[0m\u001b[0m\n\u001b[1;32m      4\u001b[0m \u001b[0;32mwhile\u001b[0m \u001b[0;32mTrue\u001b[0m\u001b[0;34m:\u001b[0m\u001b[0;34m\u001b[0m\u001b[0;34m\u001b[0m\u001b[0m\n\u001b[0;32m----> 5\u001b[0;31m   \u001b[0mtemperature\u001b[0m \u001b[0;34m=\u001b[0m \u001b[0mint\u001b[0m \u001b[0;34m(\u001b[0m\u001b[0minput\u001b[0m \u001b[0;34m(\u001b[0m\u001b[0;34m\"what is the temperature?\"\u001b[0m\u001b[0;34m)\u001b[0m\u001b[0;34m)\u001b[0m\u001b[0;34m\u001b[0m\u001b[0;34m\u001b[0m\u001b[0m\n\u001b[0m\u001b[1;32m      6\u001b[0m   data_to_upload = {\n\u001b[1;32m      7\u001b[0m       \u001b[0;34m'Temp'\u001b[0m \u001b[0;34m:\u001b[0m \u001b[0mtemperature\u001b[0m\u001b[0;34m\u001b[0m\u001b[0;34m\u001b[0m\u001b[0m\n",
            "\u001b[0;32m/usr/local/lib/python3.10/dist-packages/ipykernel/kernelbase.py\u001b[0m in \u001b[0;36mraw_input\u001b[0;34m(self, prompt)\u001b[0m\n\u001b[1;32m    849\u001b[0m                 \u001b[0;34m\"raw_input was called, but this frontend does not support input requests.\"\u001b[0m\u001b[0;34m\u001b[0m\u001b[0;34m\u001b[0m\u001b[0m\n\u001b[1;32m    850\u001b[0m             )\n\u001b[0;32m--> 851\u001b[0;31m         return self._input_request(str(prompt),\n\u001b[0m\u001b[1;32m    852\u001b[0m             \u001b[0mself\u001b[0m\u001b[0;34m.\u001b[0m\u001b[0m_parent_ident\u001b[0m\u001b[0;34m,\u001b[0m\u001b[0;34m\u001b[0m\u001b[0;34m\u001b[0m\u001b[0m\n\u001b[1;32m    853\u001b[0m             \u001b[0mself\u001b[0m\u001b[0;34m.\u001b[0m\u001b[0m_parent_header\u001b[0m\u001b[0;34m,\u001b[0m\u001b[0;34m\u001b[0m\u001b[0;34m\u001b[0m\u001b[0m\n",
            "\u001b[0;32m/usr/local/lib/python3.10/dist-packages/ipykernel/kernelbase.py\u001b[0m in \u001b[0;36m_input_request\u001b[0;34m(self, prompt, ident, parent, password)\u001b[0m\n\u001b[1;32m    893\u001b[0m             \u001b[0;32mexcept\u001b[0m \u001b[0mKeyboardInterrupt\u001b[0m\u001b[0;34m:\u001b[0m\u001b[0;34m\u001b[0m\u001b[0;34m\u001b[0m\u001b[0m\n\u001b[1;32m    894\u001b[0m                 \u001b[0;31m# re-raise KeyboardInterrupt, to truncate traceback\u001b[0m\u001b[0;34m\u001b[0m\u001b[0;34m\u001b[0m\u001b[0m\n\u001b[0;32m--> 895\u001b[0;31m                 \u001b[0;32mraise\u001b[0m \u001b[0mKeyboardInterrupt\u001b[0m\u001b[0;34m(\u001b[0m\u001b[0;34m\"Interrupted by user\"\u001b[0m\u001b[0;34m)\u001b[0m \u001b[0;32mfrom\u001b[0m \u001b[0;32mNone\u001b[0m\u001b[0;34m\u001b[0m\u001b[0;34m\u001b[0m\u001b[0m\n\u001b[0m\u001b[1;32m    896\u001b[0m             \u001b[0;32mexcept\u001b[0m \u001b[0mException\u001b[0m \u001b[0;32mas\u001b[0m \u001b[0me\u001b[0m\u001b[0;34m:\u001b[0m\u001b[0;34m\u001b[0m\u001b[0;34m\u001b[0m\u001b[0m\n\u001b[1;32m    897\u001b[0m                 \u001b[0mself\u001b[0m\u001b[0;34m.\u001b[0m\u001b[0mlog\u001b[0m\u001b[0;34m.\u001b[0m\u001b[0mwarning\u001b[0m\u001b[0;34m(\u001b[0m\u001b[0;34m\"Invalid Message:\"\u001b[0m\u001b[0;34m,\u001b[0m \u001b[0mexc_info\u001b[0m\u001b[0;34m=\u001b[0m\u001b[0;32mTrue\u001b[0m\u001b[0;34m)\u001b[0m\u001b[0;34m\u001b[0m\u001b[0;34m\u001b[0m\u001b[0m\n",
            "\u001b[0;31mKeyboardInterrupt\u001b[0m: Interrupted by user"
          ]
        }
      ]
    },
    {
      "cell_type": "code",
      "source": [
        "# @title CLASS EXAMPLE: Reading From DB\n",
        "from firebase import firebase\n",
        "\n",
        "firebase = firebase.FirebaseApplication('https://braude-cloud-tut5-default-rtdb.europe-west1.firebasedatabase.app', None)\n",
        "result = firebase.get('/myTest1', None)\n",
        "print(type(result))\n",
        "print(result)"
      ],
      "metadata": {
        "colab": {
          "base_uri": "https://localhost:8080/"
        },
        "cellView": "form",
        "id": "vFedjNKpTpQa",
        "outputId": "7ce73b46-bc56-45f0-cf89-95c2f53c7e6e"
      },
      "execution_count": null,
      "outputs": [
        {
          "output_type": "stream",
          "name": "stdout",
          "text": [
            "<class 'dict'>\n"
          ]
        }
      ]
    },
    {
      "cell_type": "code",
      "source": [
        "# @title class code middle exercise\n",
        "from firebase import firebase\n",
        "\n",
        "firebase = firebase.FirebaseApplication('https://braude-cloud-tut5-default-rtdb.europe-west1.firebasedatabase.app', None)\n",
        "students = [\n",
        "    {\"first_name\": \"Oren\", \"last_name\": \"Baranovsky\", \"email\": \"oren.baranovsky@example.com\", \"courses\": [\"Mathematics,\", \"Physics\"], \"link\": \"http://example.com/oren-baranovsky\", \"fav_plan_input\": \"lkjlkj\"},\n",
        "    {\"first_name\": \"Anna\", \"last_name\": \"Garmash\", \"email\": \"anna.garmash@example.com\", \"courses\": [\"Biology,\", \"Chemistry\"], \"link\": \"http://example.com/anna-garmash\", \"fav_plan_input\": \"1231231\"},\n",
        "    {\"first_name\": \"May\", \"last_name\": \"Caspi\", \"email\": \"may.caspi@example.com\", \"courses\": [\"Mathematics\", \"Physics\"], \"link\": \"http://example.com/may-caspi\"},\n",
        "    {\"first_name\": \"Lior\", \"last_name\": \"Shlager\", \"email\": \"lior.shlager@example.com\", \"courses\": [\"Biology,\", \"Chemistry\"], \"link\": \"http://example.com/lior-shlager\", \"fav_plan_input\": \"s\"}]\n",
        "\n",
        "\n",
        "for student in students:  # Iterate through each student dictionary\n",
        "  result = firebase.post('/students', student)  # Write each student with a unique key\n",
        "\n",
        "\n",
        "# Read\n",
        "res = firebase.get('/students', None)\n",
        "print(res)\n"
      ],
      "metadata": {
        "colab": {
          "base_uri": "https://localhost:8080/"
        },
        "id": "haVC21UfVgNF",
        "outputId": "33305d08-bbcf-4c3a-87e3-519e96acceeb"
      },
      "execution_count": 3,
      "outputs": [
        {
          "output_type": "stream",
          "name": "stdout",
          "text": [
            "{'-O0wNrVao0E_Y2S-Tid6': {'courses': ['Mathematics,', 'Physics'], 'email': 'oren.baranovsky@example.com', 'fav_plan_input': 'lkjlkj', 'first_name': 'Oren', 'last_name': 'Baranovsky', 'link': 'http://example.com/oren-baranovsky'}, '-O0wNr_0EHqMMsijtBwJ': {'courses': ['Biology,', 'Chemistry'], 'email': 'anna.garmash@example.com', 'fav_plan_input': '1231231', 'first_name': 'Anna', 'last_name': 'Garmash', 'link': 'http://example.com/anna-garmash'}, '-O0wNrdjoBJSdU3oWOSE': {'courses': ['Mathematics', 'Physics'], 'email': 'may.caspi@example.com', 'first_name': 'May', 'last_name': 'Caspi', 'link': 'http://example.com/may-caspi'}, '-O0wNriKm4zBOphN9pvS': {'courses': ['Biology,', 'Chemistry'], 'email': 'lior.shlager@example.com', 'fav_plan_input': 's', 'first_name': 'Lior', 'last_name': 'Shlager', 'link': 'http://example.com/lior-shlager'}, '-O1fMcD0uHLbls-vYN6d': {'courses': ['Mathematics,', 'Physics'], 'email': 'oren.baranovsky@example.com', 'fav_plan_input': 'lkjlkj', 'first_name': 'Oren', 'last_name': 'Baranovsky', 'link': 'http://example.com/oren-baranovsky'}, '-O1fMcH3CUTZJNI0t02B': {'courses': ['Biology,', 'Chemistry'], 'email': 'anna.garmash@example.com', 'fav_plan_input': '1231231', 'first_name': 'Anna', 'last_name': 'Garmash', 'link': 'http://example.com/anna-garmash'}, '-O1fMcLCkql_ChD4O_rG': {'courses': ['Mathematics', 'Physics'], 'email': 'may.caspi@example.com', 'first_name': 'May', 'last_name': 'Caspi', 'link': 'http://example.com/may-caspi'}, '-O1fMcPMpeAnjLrNXlqU': {'courses': ['Biology,', 'Chemistry'], 'email': 'lior.shlager@example.com', 'fav_plan_input': 's', 'first_name': 'Lior', 'last_name': 'Shlager', 'link': 'http://example.com/lior-shlager'}}\n"
          ]
        }
      ]
    }
  ]
}