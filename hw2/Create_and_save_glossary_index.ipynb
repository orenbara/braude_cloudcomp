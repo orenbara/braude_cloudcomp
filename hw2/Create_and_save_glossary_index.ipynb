{
  "nbformat": 4,
  "nbformat_minor": 0,
  "metadata": {
    "colab": {
      "provenance": [],
      "include_colab_link": true
    },
    "kernelspec": {
      "name": "python3",
      "display_name": "Python 3"
    },
    "language_info": {
      "name": "python"
    }
  },
  "cells": [
    {
      "cell_type": "markdown",
      "metadata": {
        "id": "view-in-github",
        "colab_type": "text"
      },
      "source": [
        "<a href=\"https://colab.research.google.com/github/orenbara/braude_cloudcomp/blob/master/hw2/Create_and_save_glossary_index.ipynb\" target=\"_parent\"><img src=\"https://colab.research.google.com/assets/colab-badge.svg\" alt=\"Open In Colab\"/></a>"
      ]
    },
    {
      "cell_type": "markdown",
      "source": [
        "# indexing onShape Glossary and Saving in firebase"
      ],
      "metadata": {
        "id": "qQCK9Jy95Sa1"
      }
    },
    {
      "cell_type": "code",
      "source": [
        "# @title Download NTLK - Python Natural Language Toolkit\n",
        "import nltk\n",
        "# Download packages which have pre-build\n",
        "nltk.download('punkt')\n",
        "nltk.download('stopwords')\n",
        "nltk.download('wordnet')"
      ],
      "metadata": {
        "colab": {
          "base_uri": "https://localhost:8080/"
        },
        "id": "wzwWFyh1-H7h",
        "outputId": "1d996731-43ec-4358-e02e-6102b46ea236"
      },
      "execution_count": null,
      "outputs": [
        {
          "output_type": "stream",
          "name": "stderr",
          "text": [
            "[nltk_data] Downloading package punkt to /root/nltk_data...\n",
            "[nltk_data]   Unzipping tokenizers/punkt.zip.\n",
            "[nltk_data] Downloading package stopwords to /root/nltk_data...\n",
            "[nltk_data]   Unzipping corpora/stopwords.zip.\n",
            "[nltk_data] Downloading package wordnet to /root/nltk_data...\n"
          ]
        },
        {
          "output_type": "execute_result",
          "data": {
            "text/plain": [
              "True"
            ]
          },
          "metadata": {},
          "execution_count": 1
        }
      ]
    },
    {
      "cell_type": "code",
      "source": [
        "# @title Fetch data from onShape\n",
        "import requests\n",
        "\n",
        "url = 'https://cad.onshape.com/help/Content/Glossary/glossary.htm?tocpath=_____19'\n",
        "response = requests.get(url)\n",
        "response.raise_for_status()\n",
        "html_content = response.text"
      ],
      "metadata": {
        "id": "qfy0ZdTd-joU"
      },
      "execution_count": null,
      "outputs": []
    },
    {
      "cell_type": "code",
      "source": [
        "# @title Use BeautifulSoup to parse the HTML and convert to text\n",
        "from bs4 import BeautifulSoup\n",
        "\n",
        "soup = BeautifulSoup(html_content, 'html.parser')\n",
        "text = soup.get_text()"
      ],
      "metadata": {
        "id": "B-B9HxZM-tUj"
      },
      "execution_count": null,
      "outputs": []
    },
    {
      "cell_type": "code",
      "source": [
        "# @title lemmatize and remove stop words\n",
        "import re\n",
        "from nltk.stem import WordNetLemmatizer\n",
        "from nltk.corpus import stopwords\n",
        "\n",
        "# Remove non-alphabetic characters and convert to lowercase\n",
        "words = re.findall(r'\\b[a-zA-Z]+\\b', text.lower())\n",
        "\n",
        "# lemmatization change words to their base forms\n",
        "lemmatizer = WordNetLemmatizer()\n",
        "lemmatized_words = [lemmatizer.lemmatize(word) for word in words]\n",
        "\n",
        "# Remove stopwords\n",
        "stop_words = set(stopwords.words('english'))\n",
        "lemmatized_and_no_stop_words = [word for word in lemmatized_words if word not in stop_words]\n",
        "\n",
        "# Remove words of length 1\n",
        "effective_words = [word for word in lemmatized_and_no_stop_words if len(word) > 1]\n"
      ],
      "metadata": {
        "id": "sHKn-62E_FZ1"
      },
      "execution_count": null,
      "outputs": []
    },
    {
      "cell_type": "code",
      "source": [
        "# @title Count frequancies\n",
        "from collections import Counter\n",
        "\n",
        "# Count the frequency of each word\n",
        "word_counts = Counter(effective_words)\n",
        "\n",
        "\n",
        "# Select the 10 most frequent interesting words\n",
        "most_common_words = Counter(word_counts).most_common(10)\n",
        "\n",
        "# Display the results\n",
        "for word, count in most_common_words:\n",
        "    print(f'{word}: {count}')\n"
      ],
      "metadata": {
        "colab": {
          "base_uri": "https://localhost:8080/"
        },
        "id": "xiRqLama5WnI",
        "outputId": "0ac35a16-5efb-43b4-fa22-98ee7a513121"
      },
      "execution_count": null,
      "outputs": [
        {
          "output_type": "stream",
          "name": "stdout",
          "text": [
            "context: 676\n",
            "type: 656\n",
            "also: 648\n",
            "see: 638\n",
            "keyboard: 631\n",
            "shortcut: 631\n",
            "plan: 626\n",
            "part: 521\n",
            "studio: 369\n",
            "assembly: 276\n"
          ]
        }
      ]
    },
    {
      "cell_type": "code",
      "source": [
        "!pip install firebase"
      ],
      "metadata": {
        "id": "M1Xk4SBgEUN-",
        "colab": {
          "base_uri": "https://localhost:8080/"
        },
        "outputId": "04ccbe77-0ea2-4a3e-ce05-90c75104c6e1"
      },
      "execution_count": null,
      "outputs": [
        {
          "output_type": "stream",
          "name": "stdout",
          "text": [
            "Collecting firebase\n",
            "  Downloading firebase-4.0.1-py3-none-any.whl (12 kB)\n",
            "Requirement already satisfied: requests in /usr/local/lib/python3.10/dist-packages (from firebase) (2.31.0)\n",
            "Requirement already satisfied: charset-normalizer<4,>=2 in /usr/local/lib/python3.10/dist-packages (from requests->firebase) (3.3.2)\n",
            "Requirement already satisfied: idna<4,>=2.5 in /usr/local/lib/python3.10/dist-packages (from requests->firebase) (3.7)\n",
            "Requirement already satisfied: urllib3<3,>=1.21.1 in /usr/local/lib/python3.10/dist-packages (from requests->firebase) (2.0.7)\n",
            "Requirement already satisfied: certifi>=2017.4.17 in /usr/local/lib/python3.10/dist-packages (from requests->firebase) (2024.7.4)\n",
            "Installing collected packages: firebase\n",
            "Successfully installed firebase-4.0.1\n"
          ]
        }
      ]
    },
    {
      "cell_type": "code",
      "source": [
        "# @title save to firebase\n",
        "\n",
        "from firebase import firebase\n",
        "\n",
        "firebase = firebase.FirebaseApplication('https://tirgul-db-default-rtdb.firebaseio.com/', None)\n",
        "\n",
        "# Use words as keys and store their counts\n",
        "for word, count in most_common_words:\n",
        "    firebase.put('/glossary_index', word, count)  # Use the word as the key\n",
        "    print(f'Saved {word}: {count} to Firebase')"
      ],
      "metadata": {
        "colab": {
          "base_uri": "https://localhost:8080/"
        },
        "id": "Xt1iMOEUCIFb",
        "outputId": "b922da58-dfbc-44c1-9056-fc3bbf117e48"
      },
      "execution_count": null,
      "outputs": [
        {
          "output_type": "stream",
          "name": "stdout",
          "text": [
            "Saved context: 676 to Firebase\n",
            "Saved type: 656 to Firebase\n",
            "Saved also: 648 to Firebase\n",
            "Saved see: 638 to Firebase\n",
            "Saved keyboard: 631 to Firebase\n",
            "Saved shortcut: 631 to Firebase\n",
            "Saved plan: 626 to Firebase\n",
            "Saved part: 521 to Firebase\n",
            "Saved studio: 369 to Firebase\n",
            "Saved assembly: 276 to Firebase\n"
          ]
        }
      ]
    }
  ]
}